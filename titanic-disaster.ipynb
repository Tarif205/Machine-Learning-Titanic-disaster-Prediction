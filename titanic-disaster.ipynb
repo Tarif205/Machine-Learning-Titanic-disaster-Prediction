{
 "cells": [
  {
   "cell_type": "code",
   "execution_count": 1,
   "id": "7fe7289c",
   "metadata": {
    "_cell_guid": "b1076dfc-b9ad-4769-8c92-a6c4dae69d19",
    "_uuid": "8f2839f25d086af736a60e9eeb907d3b93b6e0e5",
    "execution": {
     "iopub.execute_input": "2025-04-14T18:23:44.740114Z",
     "iopub.status.busy": "2025-04-14T18:23:44.739700Z",
     "iopub.status.idle": "2025-04-14T18:23:47.697899Z",
     "shell.execute_reply": "2025-04-14T18:23:47.696907Z"
    },
    "papermill": {
     "duration": 2.965468,
     "end_time": "2025-04-14T18:23:47.699732",
     "exception": false,
     "start_time": "2025-04-14T18:23:44.734264",
     "status": "completed"
    },
    "tags": []
   },
   "outputs": [
    {
     "name": "stdout",
     "output_type": "stream",
     "text": [
      "/kaggle/input/titanic-machine-learning-from-disaster/train.csv\n",
      "/kaggle/input/titanic-machine-learning-from-disaster/test.csv\n"
     ]
    }
   ],
   "source": [
    "# This Python 3 environment comes with many helpful analytics libraries installed\n",
    "# It is defined by the kaggle/python Docker image: https://github.com/kaggle/docker-python\n",
    "# For example, here's several helpful packages to load\n",
    "\n",
    "import numpy as np # linear algebra\n",
    "import pandas as pd # data processing, CSV file I/O (e.g. pd.read_csv)\n",
    "\n",
    "# Input data files are available in the read-only \"../input/\" directory\n",
    "# For example, running this (by clicking run or pressing Shift+Enter) will list all files under the input directory\n",
    "\n",
    "import os\n",
    "for dirname, _, filenames in os.walk('/kaggle/input'):\n",
    "    for filename in filenames:\n",
    "        print(os.path.join(dirname, filename))\n",
    "\n",
    "# You can write up to 20GB to the current directory (/kaggle/working/) that gets preserved as output when you create a version using \"Save & Run All\" \n",
    "# You can also write temporary files to /kaggle/temp/, but they won't be saved outside of the current session\n",
    "import matplotlib.pyplot as plt\n",
    "import seaborn as sns\n",
    "\n",
    "\n"
   ]
  },
  {
   "cell_type": "code",
   "execution_count": 2,
   "id": "b5d47928",
   "metadata": {
    "execution": {
     "iopub.execute_input": "2025-04-14T18:23:47.709194Z",
     "iopub.status.busy": "2025-04-14T18:23:47.708486Z",
     "iopub.status.idle": "2025-04-14T18:23:47.715475Z",
     "shell.execute_reply": "2025-04-14T18:23:47.714141Z"
    },
    "papermill": {
     "duration": 0.014555,
     "end_time": "2025-04-14T18:23:47.718276",
     "exception": false,
     "start_time": "2025-04-14T18:23:47.703721",
     "status": "completed"
    },
    "tags": []
   },
   "outputs": [],
   "source": [
    "def wrangle(filename1, filename2):\n",
    "    df_train = pd.read_csv(filename1)\n",
    "    df_test = pd.read_csv(filename2)\n",
    "\n",
    "    # Remove columns with lots of missing values\n",
    "    df_train.drop(columns=[\"Cabin\",\"Name\",\"Sex\",\"Ticket\",\"SibSp\",\"Parch\",\"Age\"], inplace=True)\n",
    "    df_test.drop(columns=[\"Cabin\",\"Name\",\"Sex\",\"Ticket\",\"SibSp\",\"Parch\",\"Age\"], inplace=True)\n",
    "\n",
    "    # Drop rows with any NaN values\n",
    "    df_train.dropna(inplace=True)\n",
    "    df_test.dropna(inplace=True)\n",
    "\n",
    "    # Set PassengerId as index\n",
    "    df_train.set_index('PassengerId', inplace=True)\n",
    "    df_test.set_index('PassengerId', inplace=True)\n",
    "\n",
    "\n",
    "    return df_train, df_test\n"
   ]
  },
  {
   "cell_type": "code",
   "execution_count": 3,
   "id": "1ddb59b7",
   "metadata": {
    "execution": {
     "iopub.execute_input": "2025-04-14T18:23:47.727181Z",
     "iopub.status.busy": "2025-04-14T18:23:47.726820Z",
     "iopub.status.idle": "2025-04-14T18:23:47.774778Z",
     "shell.execute_reply": "2025-04-14T18:23:47.773837Z"
    },
    "papermill": {
     "duration": 0.054142,
     "end_time": "2025-04-14T18:23:47.776579",
     "exception": false,
     "start_time": "2025-04-14T18:23:47.722437",
     "status": "completed"
    },
    "tags": []
   },
   "outputs": [],
   "source": [
    "X_train,X_test = wrangle(\"/kaggle/input/titanic-machine-learning-from-disaster/train.csv\",\"/kaggle/input/titanic-machine-learning-from-disaster/test.csv\")"
   ]
  },
  {
   "cell_type": "code",
   "execution_count": 4,
   "id": "0ceed2f3",
   "metadata": {
    "execution": {
     "iopub.execute_input": "2025-04-14T18:23:47.784387Z",
     "iopub.status.busy": "2025-04-14T18:23:47.784064Z",
     "iopub.status.idle": "2025-04-14T18:23:47.806599Z",
     "shell.execute_reply": "2025-04-14T18:23:47.805422Z"
    },
    "papermill": {
     "duration": 0.028528,
     "end_time": "2025-04-14T18:23:47.808555",
     "exception": false,
     "start_time": "2025-04-14T18:23:47.780027",
     "status": "completed"
    },
    "tags": []
   },
   "outputs": [
    {
     "data": {
      "text/html": [
       "<div>\n",
       "<style scoped>\n",
       "    .dataframe tbody tr th:only-of-type {\n",
       "        vertical-align: middle;\n",
       "    }\n",
       "\n",
       "    .dataframe tbody tr th {\n",
       "        vertical-align: top;\n",
       "    }\n",
       "\n",
       "    .dataframe thead th {\n",
       "        text-align: right;\n",
       "    }\n",
       "</style>\n",
       "<table border=\"1\" class=\"dataframe\">\n",
       "  <thead>\n",
       "    <tr style=\"text-align: right;\">\n",
       "      <th></th>\n",
       "      <th>Survived</th>\n",
       "      <th>Pclass</th>\n",
       "      <th>Fare</th>\n",
       "      <th>Embarked</th>\n",
       "    </tr>\n",
       "    <tr>\n",
       "      <th>PassengerId</th>\n",
       "      <th></th>\n",
       "      <th></th>\n",
       "      <th></th>\n",
       "      <th></th>\n",
       "    </tr>\n",
       "  </thead>\n",
       "  <tbody>\n",
       "    <tr>\n",
       "      <th>1</th>\n",
       "      <td>0</td>\n",
       "      <td>3</td>\n",
       "      <td>7.2500</td>\n",
       "      <td>S</td>\n",
       "    </tr>\n",
       "    <tr>\n",
       "      <th>2</th>\n",
       "      <td>1</td>\n",
       "      <td>1</td>\n",
       "      <td>71.2833</td>\n",
       "      <td>C</td>\n",
       "    </tr>\n",
       "    <tr>\n",
       "      <th>3</th>\n",
       "      <td>1</td>\n",
       "      <td>3</td>\n",
       "      <td>7.9250</td>\n",
       "      <td>S</td>\n",
       "    </tr>\n",
       "    <tr>\n",
       "      <th>4</th>\n",
       "      <td>1</td>\n",
       "      <td>1</td>\n",
       "      <td>53.1000</td>\n",
       "      <td>S</td>\n",
       "    </tr>\n",
       "    <tr>\n",
       "      <th>5</th>\n",
       "      <td>0</td>\n",
       "      <td>3</td>\n",
       "      <td>8.0500</td>\n",
       "      <td>S</td>\n",
       "    </tr>\n",
       "  </tbody>\n",
       "</table>\n",
       "</div>"
      ],
      "text/plain": [
       "             Survived  Pclass     Fare Embarked\n",
       "PassengerId                                    \n",
       "1                   0       3   7.2500        S\n",
       "2                   1       1  71.2833        C\n",
       "3                   1       3   7.9250        S\n",
       "4                   1       1  53.1000        S\n",
       "5                   0       3   8.0500        S"
      ]
     },
     "execution_count": 4,
     "metadata": {},
     "output_type": "execute_result"
    }
   ],
   "source": [
    "X_train.head()"
   ]
  },
  {
   "cell_type": "code",
   "execution_count": 5,
   "id": "45037fb0",
   "metadata": {
    "execution": {
     "iopub.execute_input": "2025-04-14T18:23:47.817124Z",
     "iopub.status.busy": "2025-04-14T18:23:47.816743Z",
     "iopub.status.idle": "2025-04-14T18:23:47.830153Z",
     "shell.execute_reply": "2025-04-14T18:23:47.829044Z"
    },
    "papermill": {
     "duration": 0.0196,
     "end_time": "2025-04-14T18:23:47.831716",
     "exception": false,
     "start_time": "2025-04-14T18:23:47.812116",
     "status": "completed"
    },
    "tags": []
   },
   "outputs": [
    {
     "data": {
      "text/plain": [
       "Survived\n",
       "0    0.617548\n",
       "1    0.382452\n",
       "Name: proportion, dtype: float64"
      ]
     },
     "execution_count": 5,
     "metadata": {},
     "output_type": "execute_result"
    }
   ],
   "source": [
    "X_train[\"Survived\"].value_counts(normalize=True)"
   ]
  },
  {
   "cell_type": "code",
   "execution_count": 6,
   "id": "b3e2f061",
   "metadata": {
    "execution": {
     "iopub.execute_input": "2025-04-14T18:23:47.840744Z",
     "iopub.status.busy": "2025-04-14T18:23:47.840385Z",
     "iopub.status.idle": "2025-04-14T18:23:47.859413Z",
     "shell.execute_reply": "2025-04-14T18:23:47.858131Z"
    },
    "papermill": {
     "duration": 0.025452,
     "end_time": "2025-04-14T18:23:47.861237",
     "exception": false,
     "start_time": "2025-04-14T18:23:47.835785",
     "status": "completed"
    },
    "tags": []
   },
   "outputs": [
    {
     "name": "stdout",
     "output_type": "stream",
     "text": [
      "<class 'pandas.core.frame.DataFrame'>\n",
      "Index: 889 entries, 1 to 891\n",
      "Data columns (total 4 columns):\n",
      " #   Column    Non-Null Count  Dtype  \n",
      "---  ------    --------------  -----  \n",
      " 0   Survived  889 non-null    int64  \n",
      " 1   Pclass    889 non-null    int64  \n",
      " 2   Fare      889 non-null    float64\n",
      " 3   Embarked  889 non-null    object \n",
      "dtypes: float64(1), int64(2), object(1)\n",
      "memory usage: 34.7+ KB\n"
     ]
    }
   ],
   "source": [
    "X_train.info()"
   ]
  },
  {
   "cell_type": "code",
   "execution_count": 7,
   "id": "74d4b183",
   "metadata": {
    "execution": {
     "iopub.execute_input": "2025-04-14T18:23:47.870152Z",
     "iopub.status.busy": "2025-04-14T18:23:47.869805Z",
     "iopub.status.idle": "2025-04-14T18:23:48.202884Z",
     "shell.execute_reply": "2025-04-14T18:23:48.201855Z"
    },
    "papermill": {
     "duration": 0.339442,
     "end_time": "2025-04-14T18:23:48.204607",
     "exception": false,
     "start_time": "2025-04-14T18:23:47.865165",
     "status": "completed"
    },
    "tags": []
   },
   "outputs": [
    {
     "data": {
      "text/plain": [
       "<Axes: >"
      ]
     },
     "execution_count": 7,
     "metadata": {},
     "output_type": "execute_result"
    },
    {
     "data": {
      "image/png": "[encoded data removed]",
      "text/plain": [
       "<Figure size 640x480 with 2 Axes>"
      ]
     },
     "metadata": {},
     "output_type": "display_data"
    }
   ],
   "source": [
    "correlation = X_train.select_dtypes(\"number\").drop(columns=\"Survived\").corr()\n",
    "sns.heatmap(correlation)"
   ]
  },
  {
   "cell_type": "code",
   "execution_count": 8,
   "id": "8bfe5558",
   "metadata": {
    "execution": {
     "iopub.execute_input": "2025-04-14T18:23:48.214884Z",
     "iopub.status.busy": "2025-04-14T18:23:48.214485Z",
     "iopub.status.idle": "2025-04-14T18:23:48.432980Z",
     "shell.execute_reply": "2025-04-14T18:23:48.431639Z"
    },
    "papermill": {
     "duration": 0.225754,
     "end_time": "2025-04-14T18:23:48.434602",
     "exception": false,
     "start_time": "2025-04-14T18:23:48.208848",
     "status": "completed"
    },
    "tags": []
   },
   "outputs": [
    {
     "data": {
      "text/plain": [
       "<Axes: >"
      ]
     },
     "execution_count": 8,
     "metadata": {},
     "output_type": "execute_result"
    },
    {
     "data": {
      "image/png": "[encoded data removed]",
      "text/plain": [
       "<Figure size 640x480 with 2 Axes>"
      ]
     },
     "metadata": {},
     "output_type": "display_data"
    }
   ],
   "source": [
    "correlation = X_train.select_dtypes(\"number\").drop(columns=\"Survived\").corr()\n",
    "sns.heatmap(correlation)"
   ]
  },
  {
   "cell_type": "code",
   "execution_count": 9,
   "id": "4efb0147",
   "metadata": {
    "execution": {
     "iopub.execute_input": "2025-04-14T18:23:48.444949Z",
     "iopub.status.busy": "2025-04-14T18:23:48.444531Z",
     "iopub.status.idle": "2025-04-14T18:23:48.453838Z",
     "shell.execute_reply": "2025-04-14T18:23:48.452722Z"
    },
    "papermill": {
     "duration": 0.016476,
     "end_time": "2025-04-14T18:23:48.455660",
     "exception": false,
     "start_time": "2025-04-14T18:23:48.439184",
     "status": "completed"
    },
    "tags": []
   },
   "outputs": [
    {
     "data": {
      "text/plain": [
       "0.2552904613046994"
      ]
     },
     "execution_count": 9,
     "metadata": {},
     "output_type": "execute_result"
    }
   ],
   "source": [
    "X_train[\"Survived\"].corr(X_train[\"Fare\"])"
   ]
  },
  {
   "cell_type": "code",
   "execution_count": 10,
   "id": "bfdf96a0",
   "metadata": {
    "execution": {
     "iopub.execute_input": "2025-04-14T18:23:48.466692Z",
     "iopub.status.busy": "2025-04-14T18:23:48.466340Z",
     "iopub.status.idle": "2025-04-14T18:23:48.666719Z",
     "shell.execute_reply": "2025-04-14T18:23:48.665480Z"
    },
    "papermill": {
     "duration": 0.208067,
     "end_time": "2025-04-14T18:23:48.668556",
     "exception": false,
     "start_time": "2025-04-14T18:23:48.460489",
     "status": "completed"
    },
    "tags": []
   },
   "outputs": [
    {
     "data": {
      "image/png": "[encoded data removed]",
      "text/plain": [
       "<Figure size 640x480 with 1 Axes>"
      ]
     },
     "metadata": {},
     "output_type": "display_data"
    }
   ],
   "source": [
    "# Create boxplot\n",
    "sns.boxplot(x= \"Survived\", y=\"Fare\", data=X_train)\n",
    "\n",
    "# Label axes\n",
    "plt.xlabel(\"Survived\")\n",
    "plt.ylabel(\"Fare\")\n",
    "plt.title(\"Distribution of Fare\");"
   ]
  },
  {
   "cell_type": "code",
   "execution_count": 11,
   "id": "604b3a27",
   "metadata": {
    "execution": {
     "iopub.execute_input": "2025-04-14T18:23:48.680177Z",
     "iopub.status.busy": "2025-04-14T18:23:48.679786Z",
     "iopub.status.idle": "2025-04-14T18:23:48.897047Z",
     "shell.execute_reply": "2025-04-14T18:23:48.895695Z"
    },
    "papermill": {
     "duration": 0.225247,
     "end_time": "2025-04-14T18:23:48.899028",
     "exception": false,
     "start_time": "2025-04-14T18:23:48.673781",
     "status": "completed"
    },
    "tags": []
   },
   "outputs": [
    {
     "data": {
      "image/png": "[encoded data removed]",
      "text/plain": [
       "<Figure size 640x480 with 1 Axes>"
      ]
     },
     "metadata": {},
     "output_type": "display_data"
    }
   ],
   "source": [
    "sns.boxplot(x= \"Survived\", y=\"Pclass\", data=X_train)\n",
    "\n",
    "# Label axes\n",
    "plt.xlabel(\"Survived\")\n",
    "plt.ylabel(\"Pclass\")\n",
    "plt.title(\"DIStribution of Pclass\");"
   ]
  },
  {
   "cell_type": "code",
   "execution_count": null,
   "id": "368e9f77",
   "metadata": {
    "papermill": {
     "duration": 0.005287,
     "end_time": "2025-04-14T18:23:48.909928",
     "exception": false,
     "start_time": "2025-04-14T18:23:48.904641",
     "status": "completed"
    },
    "tags": []
   },
   "outputs": [],
   "source": []
  }
 ],
 "metadata": {
  "kaggle": {
   "accelerator": "none",
   "dataSources": [
    {
     "datasetId": 3064,
     "sourceId": 5101,
     "sourceType": "datasetVersion"
    }
   ],
   "dockerImageVersionId": 30918,
   "isGpuEnabled": false,
   "isInternetEnabled": true,
   "language": "python",
   "sourceType": "notebook"
  },
  "kernelspec": {
   "display_name": "Python 3",
   "language": "python",
   "name": "python3"
  },
  "language_info": {
   "codemirror_mode": {
    "name": "ipython",
    "version": 3
   },
   "file_extension": ".py",
   "mimetype": "text/x-python",
   "name": "python",
   "nbconvert_exporter": "python",
   "pygments_lexer": "ipython3",
   "version": "3.10.12"
  },
  "papermill": {
   "default_parameters": {},
   "duration": 8.618666,
   "end_time": "2025-04-14T18:23:49.636610",
   "environment_variables": {},
   "exception": null,
   "input_path": "__notebook__.ipynb",
   "output_path": "__notebook__.ipynb",
   "parameters": {},
   "start_time": "2025-04-14T18:23:41.017944",
   "version": "2.6.0"
  }
 },
 "nbformat": 4,
 "nbformat_minor": 5
}
