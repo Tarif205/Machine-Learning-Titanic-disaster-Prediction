{
 "cells": [
  {
   "cell_type": "code",
   "execution_count": 1,
   "id": "b5bfc407",
   "metadata": {
    "_cell_guid": "b1076dfc-b9ad-4769-8c92-a6c4dae69d19",
    "_uuid": "8f2839f25d086af736a60e9eeb907d3b93b6e0e5",
    "execution": {
     "iopub.execute_input": "2025-04-16T16:18:35.609142Z",
     "iopub.status.busy": "2025-04-16T16:18:35.608625Z",
     "iopub.status.idle": "2025-04-16T16:18:38.656331Z",
     "shell.execute_reply": "2025-04-16T16:18:38.655267Z"
    },
    "papermill": {
     "duration": 3.058178,
     "end_time": "2025-04-16T16:18:38.658399",
     "exception": false,
     "start_time": "2025-04-16T16:18:35.600221",
     "status": "completed"
    },
    "tags": []
   },
   "outputs": [
    {
     "name": "stdout",
     "output_type": "stream",
     "text": [
      "/kaggle/input/titanic-machine-learning-from-disaster/train.csv\n",
      "/kaggle/input/titanic-machine-learning-from-disaster/test.csv\n"
     ]
    }
   ],
   "source": [
    "# This Python 3 environment comes with many helpful analytics libraries installed\n",
    "# It is defined by the kaggle/python Docker image: https://github.com/kaggle/docker-python\n",
    "# For example, here's several helpful packages to load\n",
    "\n",
    "import numpy as np # linear algebra\n",
    "import pandas as pd # data processing, CSV file I/O (e.g. pd.read_csv)\n",
    "\n",
    "# Input data files are available in the read-only \"../input/\" directory\n",
    "# For example, running this (by clicking run or pressing Shift+Enter) will list all files under the input directory\n",
    "\n",
    "import os\n",
    "for dirname, _, filenames in os.walk('/kaggle/input'):\n",
    "    for filename in filenames:\n",
    "        print(os.path.join(dirname, filename))\n",
    "\n",
    "# You can write up to 20GB to the current directory (/kaggle/working/) that gets preserved as output when you create a version using \"Save & Run All\" \n",
    "# You can also write temporary files to /kaggle/temp/, but they won't be saved outside of the current session\n",
    "import matplotlib.pyplot as plt\n",
    "import seaborn as sns\n",
    "\n",
    "\n"
   ]
  },
  {
   "cell_type": "code",
   "execution_count": 2,
   "id": "65db5fb0",
   "metadata": {
    "execution": {
     "iopub.execute_input": "2025-04-16T16:18:38.669842Z",
     "iopub.status.busy": "2025-04-16T16:18:38.669272Z",
     "iopub.status.idle": "2025-04-16T16:18:38.674756Z",
     "shell.execute_reply": "2025-04-16T16:18:38.673794Z"
    },
    "papermill": {
     "duration": 0.012821,
     "end_time": "2025-04-16T16:18:38.676416",
     "exception": false,
     "start_time": "2025-04-16T16:18:38.663595",
     "status": "completed"
    },
    "tags": []
   },
   "outputs": [],
   "source": [
    "def wrangle(filename1, filename2):\n",
    "    df_train = pd.read_csv(filename1)\n",
    "    df_test = pd.read_csv(filename2)\n",
    "\n",
    "    # Remove columns with lots of missing values\n",
    "    df_train.drop(columns=[\"Cabin\",\"Name\",\"Ticket\",\"SibSp\",\"Parch\"], inplace=True)\n",
    "    df_test.drop(columns=[\"Cabin\",\"Name\",\"Ticket\",\"SibSp\",\"Parch\"], inplace=True)\n",
    "\n",
    "    # Drop rows with any NaN values\n",
    "    # df_train.dropna(inplace=True)\n",
    "    # df_test.dropna(inplace=True)\n",
    "\n",
    "    # Set PassengerId as index\n",
    "    df_train.set_index('PassengerId', inplace=True)\n",
    "    df_test.set_index('PassengerId', inplace=True)\n",
    "\n",
    "\n",
    "    return df_train, df_test\n"
   ]
  },
  {
   "cell_type": "code",
   "execution_count": 3,
   "id": "cd571a52",
   "metadata": {
    "execution": {
     "iopub.execute_input": "2025-04-16T16:18:38.687353Z",
     "iopub.status.busy": "2025-04-16T16:18:38.686985Z",
     "iopub.status.idle": "2025-04-16T16:18:38.742129Z",
     "shell.execute_reply": "2025-04-16T16:18:38.740800Z"
    },
    "papermill": {
     "duration": 0.062887,
     "end_time": "2025-04-16T16:18:38.744200",
     "exception": false,
     "start_time": "2025-04-16T16:18:38.681313",
     "status": "completed"
    },
    "tags": []
   },
   "outputs": [],
   "source": [
    "X_train,X_test = wrangle(\"/kaggle/input/titanic-machine-learning-from-disaster/train.csv\",\"/kaggle/input/titanic-machine-learning-from-disaster/test.csv\")"
   ]
  },
  {
   "cell_type": "code",
   "execution_count": 4,
   "id": "3583ca55",
   "metadata": {
    "execution": {
     "iopub.execute_input": "2025-04-16T16:18:38.754954Z",
     "iopub.status.busy": "2025-04-16T16:18:38.754557Z",
     "iopub.status.idle": "2025-04-16T16:18:38.778515Z",
     "shell.execute_reply": "2025-04-16T16:18:38.777503Z"
    },
    "papermill": {
     "duration": 0.031206,
     "end_time": "2025-04-16T16:18:38.780275",
     "exception": false,
     "start_time": "2025-04-16T16:18:38.749069",
     "status": "completed"
    },
    "tags": []
   },
   "outputs": [
    {
     "data": {
      "text/html": [
       "<div>\n",
       "<style scoped>\n",
       "    .dataframe tbody tr th:only-of-type {\n",
       "        vertical-align: middle;\n",
       "    }\n",
       "\n",
       "    .dataframe tbody tr th {\n",
       "        vertical-align: top;\n",
       "    }\n",
       "\n",
       "    .dataframe thead th {\n",
       "        text-align: right;\n",
       "    }\n",
       "</style>\n",
       "<table border=\"1\" class=\"dataframe\">\n",
       "  <thead>\n",
       "    <tr style=\"text-align: right;\">\n",
       "      <th></th>\n",
       "      <th>Survived</th>\n",
       "      <th>Pclass</th>\n",
       "      <th>Sex</th>\n",
       "      <th>Age</th>\n",
       "      <th>Fare</th>\n",
       "      <th>Embarked</th>\n",
       "    </tr>\n",
       "    <tr>\n",
       "      <th>PassengerId</th>\n",
       "      <th></th>\n",
       "      <th></th>\n",
       "      <th></th>\n",
       "      <th></th>\n",
       "      <th></th>\n",
       "      <th></th>\n",
       "    </tr>\n",
       "  </thead>\n",
       "  <tbody>\n",
       "    <tr>\n",
       "      <th>1</th>\n",
       "      <td>0</td>\n",
       "      <td>3</td>\n",
       "      <td>male</td>\n",
       "      <td>22.0</td>\n",
       "      <td>7.2500</td>\n",
       "      <td>S</td>\n",
       "    </tr>\n",
       "    <tr>\n",
       "      <th>2</th>\n",
       "      <td>1</td>\n",
       "      <td>1</td>\n",
       "      <td>female</td>\n",
       "      <td>38.0</td>\n",
       "      <td>71.2833</td>\n",
       "      <td>C</td>\n",
       "    </tr>\n",
       "    <tr>\n",
       "      <th>3</th>\n",
       "      <td>1</td>\n",
       "      <td>3</td>\n",
       "      <td>female</td>\n",
       "      <td>26.0</td>\n",
       "      <td>7.9250</td>\n",
       "      <td>S</td>\n",
       "    </tr>\n",
       "    <tr>\n",
       "      <th>4</th>\n",
       "      <td>1</td>\n",
       "      <td>1</td>\n",
       "      <td>female</td>\n",
       "      <td>35.0</td>\n",
       "      <td>53.1000</td>\n",
       "      <td>S</td>\n",
       "    </tr>\n",
       "    <tr>\n",
       "      <th>5</th>\n",
       "      <td>0</td>\n",
       "      <td>3</td>\n",
       "      <td>male</td>\n",
       "      <td>35.0</td>\n",
       "      <td>8.0500</td>\n",
       "      <td>S</td>\n",
       "    </tr>\n",
       "  </tbody>\n",
       "</table>\n",
       "</div>"
      ],
      "text/plain": [
       "             Survived  Pclass     Sex   Age     Fare Embarked\n",
       "PassengerId                                                  \n",
       "1                   0       3    male  22.0   7.2500        S\n",
       "2                   1       1  female  38.0  71.2833        C\n",
       "3                   1       3  female  26.0   7.9250        S\n",
       "4                   1       1  female  35.0  53.1000        S\n",
       "5                   0       3    male  35.0   8.0500        S"
      ]
     },
     "execution_count": 4,
     "metadata": {},
     "output_type": "execute_result"
    }
   ],
   "source": [
    "X_train.head()"
   ]
  },
  {
   "cell_type": "code",
   "execution_count": 5,
   "id": "c9e24056",
   "metadata": {
    "execution": {
     "iopub.execute_input": "2025-04-16T16:18:38.791566Z",
     "iopub.status.busy": "2025-04-16T16:18:38.791231Z",
     "iopub.status.idle": "2025-04-16T16:18:38.807795Z",
     "shell.execute_reply": "2025-04-16T16:18:38.806794Z"
    },
    "papermill": {
     "duration": 0.024016,
     "end_time": "2025-04-16T16:18:38.809371",
     "exception": false,
     "start_time": "2025-04-16T16:18:38.785355",
     "status": "completed"
    },
    "tags": []
   },
   "outputs": [
    {
     "data": {
      "text/plain": [
       "Survived\n",
       "0    0.616162\n",
       "1    0.383838\n",
       "Name: proportion, dtype: float64"
      ]
     },
     "execution_count": 5,
     "metadata": {},
     "output_type": "execute_result"
    }
   ],
   "source": [
    "X_train[\"Survived\"].value_counts(normalize=True)"
   ]
  },
  {
   "cell_type": "code",
   "execution_count": 6,
   "id": "cba12316",
   "metadata": {
    "execution": {
     "iopub.execute_input": "2025-04-16T16:18:38.820726Z",
     "iopub.status.busy": "2025-04-16T16:18:38.820326Z",
     "iopub.status.idle": "2025-04-16T16:18:38.840065Z",
     "shell.execute_reply": "2025-04-16T16:18:38.838847Z"
    },
    "papermill": {
     "duration": 0.027132,
     "end_time": "2025-04-16T16:18:38.841563",
     "exception": false,
     "start_time": "2025-04-16T16:18:38.814431",
     "status": "completed"
    },
    "tags": []
   },
   "outputs": [
    {
     "name": "stdout",
     "output_type": "stream",
     "text": [
      "<class 'pandas.core.frame.DataFrame'>\n",
      "Index: 891 entries, 1 to 891\n",
      "Data columns (total 6 columns):\n",
      " #   Column    Non-Null Count  Dtype  \n",
      "---  ------    --------------  -----  \n",
      " 0   Survived  891 non-null    int64  \n",
      " 1   Pclass    891 non-null    int64  \n",
      " 2   Sex       891 non-null    object \n",
      " 3   Age       714 non-null    float64\n",
      " 4   Fare      891 non-null    float64\n",
      " 5   Embarked  889 non-null    object \n",
      "dtypes: float64(2), int64(2), object(2)\n",
      "memory usage: 48.7+ KB\n"
     ]
    }
   ],
   "source": [
    "X_train.info()"
   ]
  },
  {
   "cell_type": "code",
   "execution_count": 7,
   "id": "a3272600",
   "metadata": {
    "execution": {
     "iopub.execute_input": "2025-04-16T16:18:38.853046Z",
     "iopub.status.busy": "2025-04-16T16:18:38.852624Z",
     "iopub.status.idle": "2025-04-16T16:18:39.197162Z",
     "shell.execute_reply": "2025-04-16T16:18:39.196066Z"
    },
    "papermill": {
     "duration": 0.352011,
     "end_time": "2025-04-16T16:18:39.198934",
     "exception": false,
     "start_time": "2025-04-16T16:18:38.846923",
     "status": "completed"
    },
    "tags": []
   },
   "outputs": [
    {
     "data": {
      "text/plain": [
       "<Axes: >"
      ]
     },
     "execution_count": 7,
     "metadata": {},
     "output_type": "execute_result"
    },
    {
     "data": {
      "image/png": "[encoded data removed]",
      "text/plain": [
       "<Figure size 640x480 with 2 Axes>"
      ]
     },
     "metadata": {},
     "output_type": "display_data"
    }
   ],
   "source": [
    "correlation = X_train.select_dtypes(\"number\").drop(columns=\"Survived\").corr()\n",
    "sns.heatmap(correlation)"
   ]
  },
  {
   "cell_type": "code",
   "execution_count": 8,
   "id": "4f54214d",
   "metadata": {
    "execution": {
     "iopub.execute_input": "2025-04-16T16:18:39.211596Z",
     "iopub.status.busy": "2025-04-16T16:18:39.211262Z",
     "iopub.status.idle": "2025-04-16T16:18:39.440567Z",
     "shell.execute_reply": "2025-04-16T16:18:39.439556Z"
    },
    "papermill": {
     "duration": 0.237968,
     "end_time": "2025-04-16T16:18:39.442488",
     "exception": false,
     "start_time": "2025-04-16T16:18:39.204520",
     "status": "completed"
    },
    "tags": []
   },
   "outputs": [
    {
     "data": {
      "text/plain": [
       "<Axes: >"
      ]
     },
     "execution_count": 8,
     "metadata": {},
     "output_type": "execute_result"
    },
    {
     "data": {
      "image/png": "[encoded data removed]",
      "text/plain": [
       "<Figure size 640x480 with 2 Axes>"
      ]
     },
     "metadata": {},
     "output_type": "display_data"
    }
   ],
   "source": [
    "correlation = X_train.select_dtypes(\"number\").drop(columns=\"Survived\").corr()\n",
    "sns.heatmap(correlation)"
   ]
  },
  {
   "cell_type": "code",
   "execution_count": 9,
   "id": "aea635d1",
   "metadata": {
    "execution": {
     "iopub.execute_input": "2025-04-16T16:18:39.456374Z",
     "iopub.status.busy": "2025-04-16T16:18:39.456023Z",
     "iopub.status.idle": "2025-04-16T16:18:39.465008Z",
     "shell.execute_reply": "2025-04-16T16:18:39.463960Z"
    },
    "papermill": {
     "duration": 0.017727,
     "end_time": "2025-04-16T16:18:39.466653",
     "exception": false,
     "start_time": "2025-04-16T16:18:39.448926",
     "status": "completed"
    },
    "tags": []
   },
   "outputs": [
    {
     "data": {
      "text/plain": [
       "0.25730652238496227"
      ]
     },
     "execution_count": 9,
     "metadata": {},
     "output_type": "execute_result"
    }
   ],
   "source": [
    "X_train[\"Survived\"].corr(X_train[\"Fare\"])"
   ]
  },
  {
   "cell_type": "code",
   "execution_count": 10,
   "id": "f6fbbb88",
   "metadata": {
    "execution": {
     "iopub.execute_input": "2025-04-16T16:18:39.480143Z",
     "iopub.status.busy": "2025-04-16T16:18:39.479797Z",
     "iopub.status.idle": "2025-04-16T16:18:39.668043Z",
     "shell.execute_reply": "2025-04-16T16:18:39.667044Z"
    },
    "papermill": {
     "duration": 0.196863,
     "end_time": "2025-04-16T16:18:39.669719",
     "exception": false,
     "start_time": "2025-04-16T16:18:39.472856",
     "status": "completed"
    },
    "tags": []
   },
   "outputs": [
    {
     "data": {
      "image/png": "[encoded data removed]",
      "text/plain": [
       "<Figure size 640x480 with 1 Axes>"
      ]
     },
     "metadata": {},
     "output_type": "display_data"
    }
   ],
   "source": [
    "# Create boxplot\n",
    "sns.boxplot(x= \"Survived\", y=\"Fare\", data=X_train)\n",
    "\n",
    "# Label axes\n",
    "plt.xlabel(\"Survived\")\n",
    "plt.ylabel(\"Fare\")\n",
    "plt.title(\"Distribution of Fare\");"
   ]
  },
  {
   "cell_type": "code",
   "execution_count": 11,
   "id": "7ecbf811",
   "metadata": {
    "execution": {
     "iopub.execute_input": "2025-04-16T16:18:39.683960Z",
     "iopub.status.busy": "2025-04-16T16:18:39.683530Z",
     "iopub.status.idle": "2025-04-16T16:18:39.894418Z",
     "shell.execute_reply": "2025-04-16T16:18:39.893305Z"
    },
    "papermill": {
     "duration": 0.219994,
     "end_time": "2025-04-16T16:18:39.896260",
     "exception": false,
     "start_time": "2025-04-16T16:18:39.676266",
     "status": "completed"
    },
    "tags": []
   },
   "outputs": [
    {
     "data": {
      "image/png": "[encoded data removed]",
      "text/plain": [
       "<Figure size 640x480 with 1 Axes>"
      ]
     },
     "metadata": {},
     "output_type": "display_data"
    }
   ],
   "source": [
    "sns.boxplot(x= \"Survived\", y=\"Pclass\", data=X_train)\n",
    "\n",
    "# Label axes\n",
    "plt.xlabel(\"Survived\")\n",
    "plt.ylabel(\"Pclass\")\n",
    "plt.title(\"DIStribution of Pclass\");"
   ]
  },
  {
   "cell_type": "code",
   "execution_count": 12,
   "id": "969a628c",
   "metadata": {
    "execution": {
     "iopub.execute_input": "2025-04-16T16:18:39.911939Z",
     "iopub.status.busy": "2025-04-16T16:18:39.911397Z",
     "iopub.status.idle": "2025-04-16T16:18:40.163588Z",
     "shell.execute_reply": "2025-04-16T16:18:40.162518Z"
    },
    "papermill": {
     "duration": 0.262025,
     "end_time": "2025-04-16T16:18:40.165428",
     "exception": false,
     "start_time": "2025-04-16T16:18:39.903403",
     "status": "completed"
    },
    "tags": []
   },
   "outputs": [
    {
     "data": {
      "text/plain": [
       "<Axes: title={'center': 'Class balance'}, xlabel='Class', ylabel='Relative Frequency'>"
      ]
     },
     "execution_count": 12,
     "metadata": {},
     "output_type": "execute_result"
    },
    {
     "data": {
      "image/png": "[encoded data removed]",
      "text/plain": [
       "<Figure size 640x480 with 1 Axes>"
      ]
     },
     "metadata": {},
     "output_type": "display_data"
    }
   ],
   "source": [
    "(X_train[\"Survived\"].value_counts(normalize=True)).plot(\n",
    "    kind=\"bar\", xlabel= \"Class\", ylabel=\"Relative Frequency\", title=\"Class balance\"\n",
    ")"
   ]
  },
  {
   "cell_type": "code",
   "execution_count": 13,
   "id": "632c84eb",
   "metadata": {
    "execution": {
     "iopub.execute_input": "2025-04-16T16:18:40.181792Z",
     "iopub.status.busy": "2025-04-16T16:18:40.181386Z",
     "iopub.status.idle": "2025-04-16T16:18:40.187306Z",
     "shell.execute_reply": "2025-04-16T16:18:40.186222Z"
    },
    "papermill": {
     "duration": 0.015942,
     "end_time": "2025-04-16T16:18:40.188934",
     "exception": false,
     "start_time": "2025-04-16T16:18:40.172992",
     "status": "completed"
    },
    "tags": []
   },
   "outputs": [
    {
     "name": "stdout",
     "output_type": "stream",
     "text": [
      "0.6161616161616161 0.3838383838383838\n"
     ]
    }
   ],
   "source": [
    "majority_class_prop, minority_class_prop = (X_train[\"Survived\"].value_counts(normalize=True))\n",
    "print(majority_class_prop, minority_class_prop)"
   ]
  },
  {
   "cell_type": "code",
   "execution_count": 14,
   "id": "20b42de2",
   "metadata": {
    "execution": {
     "iopub.execute_input": "2025-04-16T16:18:40.205206Z",
     "iopub.status.busy": "2025-04-16T16:18:40.204859Z",
     "iopub.status.idle": "2025-04-16T16:18:40.216228Z",
     "shell.execute_reply": "2025-04-16T16:18:40.215226Z"
    },
    "papermill": {
     "duration": 0.021365,
     "end_time": "2025-04-16T16:18:40.217879",
     "exception": false,
     "start_time": "2025-04-16T16:18:40.196514",
     "status": "completed"
    },
    "tags": []
   },
   "outputs": [
    {
     "data": {
      "text/html": [
       "<div>\n",
       "<style scoped>\n",
       "    .dataframe tbody tr th:only-of-type {\n",
       "        vertical-align: middle;\n",
       "    }\n",
       "\n",
       "    .dataframe tbody tr th {\n",
       "        vertical-align: top;\n",
       "    }\n",
       "\n",
       "    .dataframe thead th {\n",
       "        text-align: right;\n",
       "    }\n",
       "</style>\n",
       "<table border=\"1\" class=\"dataframe\">\n",
       "  <thead>\n",
       "    <tr style=\"text-align: right;\">\n",
       "      <th></th>\n",
       "      <th>Survived</th>\n",
       "      <th>Pclass</th>\n",
       "      <th>Sex</th>\n",
       "      <th>Age</th>\n",
       "      <th>Fare</th>\n",
       "      <th>Embarked</th>\n",
       "    </tr>\n",
       "    <tr>\n",
       "      <th>PassengerId</th>\n",
       "      <th></th>\n",
       "      <th></th>\n",
       "      <th></th>\n",
       "      <th></th>\n",
       "      <th></th>\n",
       "      <th></th>\n",
       "    </tr>\n",
       "  </thead>\n",
       "  <tbody>\n",
       "    <tr>\n",
       "      <th>1</th>\n",
       "      <td>0</td>\n",
       "      <td>3</td>\n",
       "      <td>male</td>\n",
       "      <td>22.0</td>\n",
       "      <td>7.2500</td>\n",
       "      <td>S</td>\n",
       "    </tr>\n",
       "    <tr>\n",
       "      <th>2</th>\n",
       "      <td>1</td>\n",
       "      <td>1</td>\n",
       "      <td>female</td>\n",
       "      <td>38.0</td>\n",
       "      <td>71.2833</td>\n",
       "      <td>C</td>\n",
       "    </tr>\n",
       "    <tr>\n",
       "      <th>3</th>\n",
       "      <td>1</td>\n",
       "      <td>3</td>\n",
       "      <td>female</td>\n",
       "      <td>26.0</td>\n",
       "      <td>7.9250</td>\n",
       "      <td>S</td>\n",
       "    </tr>\n",
       "    <tr>\n",
       "      <th>4</th>\n",
       "      <td>1</td>\n",
       "      <td>1</td>\n",
       "      <td>female</td>\n",
       "      <td>35.0</td>\n",
       "      <td>53.1000</td>\n",
       "      <td>S</td>\n",
       "    </tr>\n",
       "    <tr>\n",
       "      <th>5</th>\n",
       "      <td>0</td>\n",
       "      <td>3</td>\n",
       "      <td>male</td>\n",
       "      <td>35.0</td>\n",
       "      <td>8.0500</td>\n",
       "      <td>S</td>\n",
       "    </tr>\n",
       "  </tbody>\n",
       "</table>\n",
       "</div>"
      ],
      "text/plain": [
       "             Survived  Pclass     Sex   Age     Fare Embarked\n",
       "PassengerId                                                  \n",
       "1                   0       3    male  22.0   7.2500        S\n",
       "2                   1       1  female  38.0  71.2833        C\n",
       "3                   1       3  female  26.0   7.9250        S\n",
       "4                   1       1  female  35.0  53.1000        S\n",
       "5                   0       3    male  35.0   8.0500        S"
      ]
     },
     "execution_count": 14,
     "metadata": {},
     "output_type": "execute_result"
    }
   ],
   "source": [
    "X_train.head()"
   ]
  },
  {
   "cell_type": "code",
   "execution_count": 15,
   "id": "89cbdaab",
   "metadata": {
    "execution": {
     "iopub.execute_input": "2025-04-16T16:18:40.234411Z",
     "iopub.status.busy": "2025-04-16T16:18:40.234087Z",
     "iopub.status.idle": "2025-04-16T16:18:40.249860Z",
     "shell.execute_reply": "2025-04-16T16:18:40.248719Z"
    },
    "papermill": {
     "duration": 0.025886,
     "end_time": "2025-04-16T16:18:40.251479",
     "exception": false,
     "start_time": "2025-04-16T16:18:40.225593",
     "status": "completed"
    },
    "tags": []
   },
   "outputs": [
    {
     "data": {
      "text/html": [
       "<div>\n",
       "<style scoped>\n",
       "    .dataframe tbody tr th:only-of-type {\n",
       "        vertical-align: middle;\n",
       "    }\n",
       "\n",
       "    .dataframe tbody tr th {\n",
       "        vertical-align: top;\n",
       "    }\n",
       "\n",
       "    .dataframe thead th {\n",
       "        text-align: right;\n",
       "    }\n",
       "</style>\n",
       "<table border=\"1\" class=\"dataframe\">\n",
       "  <thead>\n",
       "    <tr style=\"text-align: right;\">\n",
       "      <th></th>\n",
       "      <th>Survived</th>\n",
       "    </tr>\n",
       "    <tr>\n",
       "      <th>Pclass</th>\n",
       "      <th></th>\n",
       "    </tr>\n",
       "  </thead>\n",
       "  <tbody>\n",
       "    <tr>\n",
       "      <th>3</th>\n",
       "      <td>0.242363</td>\n",
       "    </tr>\n",
       "    <tr>\n",
       "      <th>2</th>\n",
       "      <td>0.472826</td>\n",
       "    </tr>\n",
       "    <tr>\n",
       "      <th>1</th>\n",
       "      <td>0.629630</td>\n",
       "    </tr>\n",
       "  </tbody>\n",
       "</table>\n",
       "</div>"
      ],
      "text/plain": [
       "        Survived\n",
       "Pclass          \n",
       "3       0.242363\n",
       "2       0.472826\n",
       "1       0.629630"
      ]
     },
     "execution_count": 15,
     "metadata": {},
     "output_type": "execute_result"
    }
   ],
   "source": [
    "pivot = pd.pivot_table(\n",
    "    X_train, index=\"Pclass\",values=\"Survived\",aggfunc=\"mean\"\n",
    ").sort_values(by=\"Survived\")\n",
    "pivot"
   ]
  },
  {
   "cell_type": "code",
   "execution_count": 16,
   "id": "8b831935",
   "metadata": {
    "execution": {
     "iopub.execute_input": "2025-04-16T16:18:40.268506Z",
     "iopub.status.busy": "2025-04-16T16:18:40.268134Z",
     "iopub.status.idle": "2025-04-16T16:18:40.466187Z",
     "shell.execute_reply": "2025-04-16T16:18:40.465108Z"
    },
    "papermill": {
     "duration": 0.20842,
     "end_time": "2025-04-16T16:18:40.468001",
     "exception": false,
     "start_time": "2025-04-16T16:18:40.259581",
     "status": "completed"
    },
    "tags": []
   },
   "outputs": [
    {
     "data": {
      "image/png": "[encoded data removed]",
      "text/plain": [
       "<Figure size 640x480 with 1 Axes>"
      ]
     },
     "metadata": {},
     "output_type": "display_data"
    }
   ],
   "source": [
    "pivot.plot(kind=\"barh\",legend=None)\n",
    "plt.axvline(\n",
    "        majority_class_prop, linestyle=\"--\",color=\"red\",label=\"Majority class\"\n",
    ")\n",
    "\n",
    "plt.axvline(\n",
    "        minority_class_prop, linestyle=\"--\",color=\"green\",label=\"minority class\"\n",
    ")\n",
    "plt.legend(loc=\"lower right\");"
   ]
  },
  {
   "cell_type": "code",
   "execution_count": 17,
   "id": "16b6479c",
   "metadata": {
    "execution": {
     "iopub.execute_input": "2025-04-16T16:18:40.485743Z",
     "iopub.status.busy": "2025-04-16T16:18:40.485292Z",
     "iopub.status.idle": "2025-04-16T16:18:40.491641Z",
     "shell.execute_reply": "2025-04-16T16:18:40.490811Z"
    },
    "papermill": {
     "duration": 0.017063,
     "end_time": "2025-04-16T16:18:40.493190",
     "exception": false,
     "start_time": "2025-04-16T16:18:40.476127",
     "status": "completed"
    },
    "tags": []
   },
   "outputs": [
    {
     "data": {
      "text/plain": [
       "array(['S', 'C', 'Q', nan], dtype=object)"
      ]
     },
     "execution_count": 17,
     "metadata": {},
     "output_type": "execute_result"
    }
   ],
   "source": [
    "(X_train['Embarked'].unique())"
   ]
  },
  {
   "cell_type": "code",
   "execution_count": 18,
   "id": "a3c4211c",
   "metadata": {
    "execution": {
     "iopub.execute_input": "2025-04-16T16:18:40.510860Z",
     "iopub.status.busy": "2025-04-16T16:18:40.510471Z",
     "iopub.status.idle": "2025-04-16T16:18:40.518013Z",
     "shell.execute_reply": "2025-04-16T16:18:40.516817Z"
    },
    "papermill": {
     "duration": 0.018061,
     "end_time": "2025-04-16T16:18:40.519642",
     "exception": false,
     "start_time": "2025-04-16T16:18:40.501581",
     "status": "completed"
    },
    "tags": []
   },
   "outputs": [
    {
     "data": {
      "text/plain": [
       "Embarked\n",
       "S    644\n",
       "C    168\n",
       "Q     77\n",
       "Name: count, dtype: int64"
      ]
     },
     "execution_count": 18,
     "metadata": {},
     "output_type": "execute_result"
    }
   ],
   "source": [
    "X_train['Embarked'].value_counts()\n"
   ]
  },
  {
   "cell_type": "code",
   "execution_count": 19,
   "id": "e8e46747",
   "metadata": {
    "execution": {
     "iopub.execute_input": "2025-04-16T16:18:40.537571Z",
     "iopub.status.busy": "2025-04-16T16:18:40.537233Z",
     "iopub.status.idle": "2025-04-16T16:18:40.542596Z",
     "shell.execute_reply": "2025-04-16T16:18:40.541619Z"
    },
    "papermill": {
     "duration": 0.01628,
     "end_time": "2025-04-16T16:18:40.544297",
     "exception": false,
     "start_time": "2025-04-16T16:18:40.528017",
     "status": "completed"
    },
    "tags": []
   },
   "outputs": [],
   "source": [
    "target = \"Survived\"\n",
    "X = X_train.drop(columns=\"Survived\")\n",
    "y = X_train[target]"
   ]
  },
  {
   "cell_type": "code",
   "execution_count": 20,
   "id": "3b4cb5d9",
   "metadata": {
    "execution": {
     "iopub.execute_input": "2025-04-16T16:18:40.563100Z",
     "iopub.status.busy": "2025-04-16T16:18:40.562746Z",
     "iopub.status.idle": "2025-04-16T16:18:40.569130Z",
     "shell.execute_reply": "2025-04-16T16:18:40.568073Z"
    },
    "papermill": {
     "duration": 0.017965,
     "end_time": "2025-04-16T16:18:40.570862",
     "exception": false,
     "start_time": "2025-04-16T16:18:40.552897",
     "status": "completed"
    },
    "tags": []
   },
   "outputs": [
    {
     "name": "stdout",
     "output_type": "stream",
     "text": [
      "Baseline Accuracy: 0.62\n"
     ]
    }
   ],
   "source": [
    "acc_baseline =y.value_counts(normalize=True).max()\n",
    "print(\"Baseline Accuracy:\", round(acc_baseline, 2))"
   ]
  },
  {
   "cell_type": "code",
   "execution_count": null,
   "id": "b5fba552",
   "metadata": {
    "papermill": {
     "duration": 0.007943,
     "end_time": "2025-04-16T16:18:40.587172",
     "exception": false,
     "start_time": "2025-04-16T16:18:40.579229",
     "status": "completed"
    },
    "tags": []
   },
   "outputs": [],
   "source": []
  }
 ],
 "metadata": {
  "kaggle": {
   "accelerator": "none",
   "dataSources": [
    {
     "datasetId": 3064,
     "sourceId": 5101,
     "sourceType": "datasetVersion"
    }
   ],
   "dockerImageVersionId": 30918,
   "isGpuEnabled": false,
   "isInternetEnabled": true,
   "language": "python",
   "sourceType": "notebook"
  },
  "kernelspec": {
   "display_name": "Python 3",
   "language": "python",
   "name": "python3"
  },
  "language_info": {
   "codemirror_mode": {
    "name": "ipython",
    "version": 3
   },
   "file_extension": ".py",
   "mimetype": "text/x-python",
   "name": "python",
   "nbconvert_exporter": "python",
   "pygments_lexer": "ipython3",
   "version": "3.10.12"
  },
  "papermill": {
   "default_parameters": {},
   "duration": 9.319199,
   "end_time": "2025-04-16T16:18:41.315805",
   "environment_variables": {},
   "exception": null,
   "input_path": "__notebook__.ipynb",
   "output_path": "__notebook__.ipynb",
   "parameters": {},
   "start_time": "2025-04-16T16:18:31.996606",
   "version": "2.6.0"
  }
 },
 "nbformat": 4,
 "nbformat_minor": 5
}
